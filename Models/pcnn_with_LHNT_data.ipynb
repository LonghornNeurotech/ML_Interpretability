{
  "cells": [
    {
      "cell_type": "code",
      "source": [
        "pip install EMD-signal"
      ],
      "metadata": {
        "colab": {
          "base_uri": "https://localhost:8080/"
        },
        "id": "EwMshMsSSnGQ",
        "outputId": "cb29434c-0281-47f7-f527-f1c60bb6f53a"
      },
      "execution_count": 3,
      "outputs": [
        {
          "output_type": "stream",
          "name": "stdout",
          "text": [
            "Collecting EMD-signal\n",
            "  Downloading EMD_signal-1.6.4-py3-none-any.whl.metadata (8.9 kB)\n",
            "Requirement already satisfied: numpy>=1.12 in /usr/local/lib/python3.11/dist-packages (from EMD-signal) (1.26.4)\n",
            "Requirement already satisfied: scipy>=0.19 in /usr/local/lib/python3.11/dist-packages (from EMD-signal) (1.13.1)\n",
            "Collecting pathos>=0.2.1 (from EMD-signal)\n",
            "  Downloading pathos-0.3.3-py3-none-any.whl.metadata (11 kB)\n",
            "Requirement already satisfied: tqdm<5.0,>=4.64.0 in /usr/local/lib/python3.11/dist-packages (from EMD-signal) (4.67.1)\n",
            "Collecting ppft>=1.7.6.9 (from pathos>=0.2.1->EMD-signal)\n",
            "  Downloading ppft-1.7.6.9-py3-none-any.whl.metadata (12 kB)\n",
            "Collecting dill>=0.3.9 (from pathos>=0.2.1->EMD-signal)\n",
            "  Downloading dill-0.3.9-py3-none-any.whl.metadata (10 kB)\n",
            "Collecting pox>=0.3.5 (from pathos>=0.2.1->EMD-signal)\n",
            "  Downloading pox-0.3.5-py3-none-any.whl.metadata (8.0 kB)\n",
            "Collecting multiprocess>=0.70.17 (from pathos>=0.2.1->EMD-signal)\n",
            "  Downloading multiprocess-0.70.17-py311-none-any.whl.metadata (7.2 kB)\n",
            "Downloading EMD_signal-1.6.4-py3-none-any.whl (75 kB)\n",
            "\u001b[2K   \u001b[90m━━━━━━━━━━━━━━━━━━━━━━━━━━━━━━━━━━━━━━━━\u001b[0m \u001b[32m75.6/75.6 kB\u001b[0m \u001b[31m6.1 MB/s\u001b[0m eta \u001b[36m0:00:00\u001b[0m\n",
            "\u001b[?25hDownloading pathos-0.3.3-py3-none-any.whl (82 kB)\n",
            "\u001b[2K   \u001b[90m━━━━━━━━━━━━━━━━━━━━━━━━━━━━━━━━━━━━━━━━\u001b[0m \u001b[32m82.1/82.1 kB\u001b[0m \u001b[31m7.4 MB/s\u001b[0m eta \u001b[36m0:00:00\u001b[0m\n",
            "\u001b[?25hDownloading dill-0.3.9-py3-none-any.whl (119 kB)\n",
            "\u001b[2K   \u001b[90m━━━━━━━━━━━━━━━━━━━━━━━━━━━━━━━━━━━━━━━━\u001b[0m \u001b[32m119.4/119.4 kB\u001b[0m \u001b[31m10.1 MB/s\u001b[0m eta \u001b[36m0:00:00\u001b[0m\n",
            "\u001b[?25hDownloading multiprocess-0.70.17-py311-none-any.whl (144 kB)\n",
            "\u001b[2K   \u001b[90m━━━━━━━━━━━━━━━━━━━━━━━━━━━━━━━━━━━━━━━━\u001b[0m \u001b[32m144.3/144.3 kB\u001b[0m \u001b[31m15.1 MB/s\u001b[0m eta \u001b[36m0:00:00\u001b[0m\n",
            "\u001b[?25hDownloading pox-0.3.5-py3-none-any.whl (29 kB)\n",
            "Downloading ppft-1.7.6.9-py3-none-any.whl (56 kB)\n",
            "\u001b[2K   \u001b[90m━━━━━━━━━━━━━━━━━━━━━━━━━━━━━━━━━━━━━━━━\u001b[0m \u001b[32m56.8/56.8 kB\u001b[0m \u001b[31m4.6 MB/s\u001b[0m eta \u001b[36m0:00:00\u001b[0m\n",
            "\u001b[?25hInstalling collected packages: ppft, pox, dill, multiprocess, pathos, EMD-signal\n",
            "Successfully installed EMD-signal-1.6.4 dill-0.3.9 multiprocess-0.70.17 pathos-0.3.3 pox-0.3.5 ppft-1.7.6.9\n"
          ]
        }
      ]
    },
    {
      "cell_type": "code",
      "execution_count": 4,
      "metadata": {
        "id": "oqcjUC3bOKhu"
      },
      "outputs": [],
      "source": [
        "import torch\n",
        "import torch.nn as nn\n",
        "import torch.optim as optim\n",
        "import numpy as np\n",
        "import torch.nn.functional as F\n",
        "import os\n",
        "import scipy\n",
        "import random\n",
        "import matplotlib.pyplot as plt\n",
        "from torch.utils.data import DataLoader as DL\n",
        "from torch.utils.data import TensorDataset as TData\n",
        "from tqdm import tqdm\n",
        "import re\n",
        "from sklearn.model_selection import train_test_split as tts\n",
        "import pickle\n",
        "\n",
        "from scipy.signal import butter, filtfilt\n",
        "from PyEMD import EMD\n",
        "from scipy.stats import skew, kurtosis"
      ]
    },
    {
      "cell_type": "code",
      "source": [
        "from google.colab import drive\n",
        "drive.mount('/content/drive')"
      ],
      "metadata": {
        "colab": {
          "base_uri": "https://localhost:8080/"
        },
        "id": "cc4PgfyyOjP6",
        "outputId": "26615645-423b-4e2e-9e53-19e216823338"
      },
      "execution_count": 5,
      "outputs": [
        {
          "output_type": "stream",
          "name": "stdout",
          "text": [
            "Mounted at /content/drive\n"
          ]
        }
      ]
    },
    {
      "cell_type": "markdown",
      "source": [
        "# Data Loading"
      ],
      "metadata": {
        "id": "WYjr4RAoVUGu"
      }
    },
    {
      "cell_type": "code",
      "source": [
        "root = '/content/drive/MyDrive/Longhorn Neurotech/LHNT_pickles/'"
      ],
      "metadata": {
        "id": "ZLZKhGs5vBCk"
      },
      "execution_count": 6,
      "outputs": []
    },
    {
      "cell_type": "code",
      "execution_count": 70,
      "metadata": {
        "id": "OSYL5T_lOKhw"
      },
      "outputs": [],
      "source": [
        "# Base folder containing the files\n",
        "# right_session_folder = os.path.join(root, \"alan_f_right/session_1\")\n",
        "\n",
        "# Initialize a dictionary to store the loaded signals\n",
        "right_eeg_data = {}\n",
        "\n",
        "# Iterate through files labeled in increments of two\n",
        "for j in range(1, 7):\n",
        "  right_session_folder = os.path.join(root, f\"nandini_right/session_{j}\")\n",
        "  for i in range(2, 21, 2):  # Adjust the range as needed\n",
        "      file_path = os.path.join(right_session_folder, f\"right_{i}.pkl\")\n",
        "\n",
        "      # Check if the file exists\n",
        "      if os.path.exists(file_path):\n",
        "          with open(file_path, \"rb\") as file:\n",
        "              data = pickle.load(file)\n",
        "              right_eeg_data[f\"right_{j}_{i}\"] = data  # Store the data with the corresponding label\n",
        "      else:\n",
        "          print(f\"File not found: {file_path}\")\n",
        "          break  # Stop if the file sequence ends\n",
        "\n",
        "left_eeg_data = {}\n",
        "\n",
        "for j in range(1, 7):\n",
        "  left_session_folder = os.path.join(root, f\"nandini_left/session_{j}\")\n",
        "  # Iterate through files labeled in increments of two\n",
        "  for i in range(1, 20, 2):  # Adjust the range as needed\n",
        "      file_path = os.path.join(left_session_folder, f\"left_{i}.pkl\")\n",
        "\n",
        "      # Check if the file exists\n",
        "      if os.path.exists(file_path):\n",
        "          with open(file_path, \"rb\") as file:\n",
        "              data = pickle.load(file)\n",
        "              left_eeg_data[f\"left_{j}_{i}\"] = data  # Store the data with the corresponding label\n",
        "      else:\n",
        "          print(f\"File not found: {file_path}\")\n",
        "          break  # Stop if the file sequence ends\n",
        "\n",
        "\n",
        "\n",
        "right_signal_data = {label: signal[0] for label, signal in right_eeg_data.items()}\n",
        "right_metadata = {label: signal[1] for label, signal in right_eeg_data.items()}\n",
        "\n",
        "left_signal_data = {label: signal[0] for label, signal in left_eeg_data.items()}\n",
        "metadata = {label: signal[1] for label, signal in left_eeg_data.items()}\n",
        "\n"
      ]
    },
    {
      "cell_type": "code",
      "source": [
        "from scipy.signal import butter, filtfilt\n",
        "from sklearn.preprocessing import StandardScaler\n",
        "\n",
        "def baseline_correction(signal):\n",
        "    \"\"\"\n",
        "    Removes baseline offset by subtracting the mean of each channel.\n",
        "\n",
        "    Parameters:\n",
        "        signal (np.ndarray): EEG signal with shape (channels, samples).\n",
        "\n",
        "    Returns:\n",
        "        np.ndarray: Baseline-corrected signal.\n",
        "    \"\"\"\n",
        "    return signal - np.mean(signal, axis=1, keepdims=True)\n",
        "\n",
        "\n",
        "def bandpass_filter(signal, lowcut=13, highcut=30, fs=125, order=4):\n",
        "    \"\"\"\n",
        "    Band-pass filters the signal for the specified frequency range.\n",
        "\n",
        "    Parameters:\n",
        "        signal (np.ndarray): EEG signal with shape (channels, samples).\n",
        "        lowcut (float): Lower cutoff frequency (Hz).\n",
        "        highcut (float): Upper cutoff frequency (Hz).\n",
        "        fs (float): Sampling rate (Hz).\n",
        "        order (int): Order of the filter.\n",
        "\n",
        "    Returns:\n",
        "        np.ndarray: Band-pass filtered signal.\n",
        "    \"\"\"\n",
        "    nyquist = 0.5 * fs\n",
        "    low = lowcut / nyquist\n",
        "    high = highcut / nyquist\n",
        "    b, a = butter(order, [low, high], btype=\"band\")\n",
        "    return filtfilt(b, a, signal, axis=1)\n",
        "\n",
        "def normalize_signal(signal):\n",
        "    \"\"\"\n",
        "    Normalizes the signal for each channel (z-score normalization).\n",
        "\n",
        "    Parameters:\n",
        "        signal (np.ndarray): EEG signal with shape (channels, samples).\n",
        "\n",
        "    Returns:\n",
        "        np.ndarray: Normalized signal.\n",
        "    \"\"\"\n",
        "    scaler = StandardScaler()\n",
        "    return scaler.fit_transform(signal.T).T  # Transpose to normalize each channel\n",
        "\n",
        "def preprocess_eeg(signal, fs=256):\n",
        "    \"\"\"\n",
        "    Preprocess EEG signal with baseline correction, band-pass filtering, and normalization.\n",
        "\n",
        "    Parameters:\n",
        "        signal (np.ndarray): EEG signal with shape (channels, samples).\n",
        "        fs (float): Sampling rate (Hz).\n",
        "\n",
        "    Returns:\n",
        "        np.ndarray: Preprocessed EEG signal.\n",
        "    \"\"\"\n",
        "    # Step 1: Baseline Correction\n",
        "    signal_corrected = baseline_correction(signal)\n",
        "\n",
        "    # Step 2: Band-Pass Filter (Beta Frequencies)\n",
        "    signal_filtered = bandpass_filter(signal_corrected, lowcut=4, highcut=40, fs=fs)\n",
        "\n",
        "    # Step 3: Normalization\n",
        "    signal_normalized = normalize_signal(signal_filtered)\n",
        "\n",
        "    return signal_normalized\n",
        "\n",
        "def sliding_window_augmentation(data, labels, window_size=125, stride=80):\n",
        "    \"\"\"\n",
        "    Apply sliding window to already EMD-processed data\n",
        "\n",
        "    Args:\n",
        "    data: numpy array of shape (n_samples, n_channels*n_imfs, time_steps)\n",
        "    labels: numpy array of shape (n_samples,)\n",
        "    window_size: size of sliding window\n",
        "    stride: step size for sliding window\n",
        "\n",
        "    Returns:\n",
        "    augmented_data, augmented_labels\n",
        "    \"\"\"\n",
        "    n_samples, n_features, time_steps = data.shape\n",
        "    n_windows = (time_steps - window_size) // stride + 1\n",
        "\n",
        "    augmented_data = np.zeros((n_samples * n_windows, n_features, window_size))\n",
        "    augmented_labels = np.zeros(n_samples * n_windows, dtype=labels.dtype)\n",
        "\n",
        "    idx = 0\n",
        "    for i in range(n_samples):\n",
        "        for j in range(n_windows):\n",
        "            start = j * stride\n",
        "            end = start + window_size\n",
        "            augmented_data[idx] = data[i, :, start:end]\n",
        "            augmented_labels[idx] = labels[i]\n",
        "            idx += 1\n",
        "\n",
        "    return augmented_data, augmented_labels"
      ],
      "metadata": {
        "id": "qicPbkMivQuo"
      },
      "execution_count": 71,
      "outputs": []
    },
    {
      "cell_type": "code",
      "source": [
        "# Preprocess each signal in the dictionary\n",
        "right_preprocessed_signals = {label: preprocess_eeg(signal, fs=256) for label, signal in right_signal_data.items()}\n",
        "\n",
        "# Inspect the shapes of the processed signals\n",
        "for label, signal in right_preprocessed_signals.items():\n",
        "    print(f\"{label}: RIGHT Processed Signal Shape = {signal.shape}\")\n",
        "\n",
        "\n",
        "# Preprocess each signal in the dictionary\n",
        "left_preprocessed_signals = {label: preprocess_eeg(signal, fs=256) for label, signal in left_signal_data.items()}\n",
        "\n",
        "# Inspect the shapes of the processed signals\n",
        "for label, signal in left_preprocessed_signals.items():\n",
        "    print(f\"{label}: LEFT Processed Signal Shape = {signal.shape}\")"
      ],
      "metadata": {
        "colab": {
          "base_uri": "https://localhost:8080/"
        },
        "id": "KyOEe9eKvTMM",
        "outputId": "1a85e780-f0c5-4658-ee2a-1bd7243623ba"
      },
      "execution_count": 72,
      "outputs": [
        {
          "output_type": "stream",
          "name": "stdout",
          "text": [
            "right_1_2: RIGHT Processed Signal Shape = (16, 875)\n",
            "right_1_4: RIGHT Processed Signal Shape = (16, 875)\n",
            "right_1_6: RIGHT Processed Signal Shape = (16, 875)\n",
            "right_1_8: RIGHT Processed Signal Shape = (16, 875)\n",
            "right_1_10: RIGHT Processed Signal Shape = (16, 875)\n",
            "right_1_12: RIGHT Processed Signal Shape = (16, 875)\n",
            "right_1_14: RIGHT Processed Signal Shape = (16, 875)\n",
            "right_1_16: RIGHT Processed Signal Shape = (16, 875)\n",
            "right_1_18: RIGHT Processed Signal Shape = (16, 875)\n",
            "right_1_20: RIGHT Processed Signal Shape = (16, 875)\n",
            "right_2_2: RIGHT Processed Signal Shape = (16, 875)\n",
            "right_2_4: RIGHT Processed Signal Shape = (16, 875)\n",
            "right_2_6: RIGHT Processed Signal Shape = (16, 875)\n",
            "right_2_8: RIGHT Processed Signal Shape = (16, 875)\n",
            "right_2_10: RIGHT Processed Signal Shape = (16, 875)\n",
            "right_2_12: RIGHT Processed Signal Shape = (16, 875)\n",
            "right_2_14: RIGHT Processed Signal Shape = (16, 875)\n",
            "right_2_16: RIGHT Processed Signal Shape = (16, 875)\n",
            "right_2_18: RIGHT Processed Signal Shape = (16, 875)\n",
            "right_2_20: RIGHT Processed Signal Shape = (16, 875)\n",
            "right_3_2: RIGHT Processed Signal Shape = (16, 875)\n",
            "right_3_4: RIGHT Processed Signal Shape = (16, 875)\n",
            "right_3_6: RIGHT Processed Signal Shape = (16, 875)\n",
            "right_3_8: RIGHT Processed Signal Shape = (16, 875)\n",
            "right_3_10: RIGHT Processed Signal Shape = (16, 875)\n",
            "right_3_12: RIGHT Processed Signal Shape = (16, 875)\n",
            "right_3_14: RIGHT Processed Signal Shape = (16, 875)\n",
            "right_3_16: RIGHT Processed Signal Shape = (16, 875)\n",
            "right_3_18: RIGHT Processed Signal Shape = (16, 875)\n",
            "right_3_20: RIGHT Processed Signal Shape = (16, 875)\n",
            "right_4_2: RIGHT Processed Signal Shape = (16, 875)\n",
            "right_4_4: RIGHT Processed Signal Shape = (16, 875)\n",
            "right_4_6: RIGHT Processed Signal Shape = (16, 875)\n",
            "right_4_8: RIGHT Processed Signal Shape = (16, 875)\n",
            "right_4_10: RIGHT Processed Signal Shape = (16, 875)\n",
            "right_4_12: RIGHT Processed Signal Shape = (16, 875)\n",
            "right_4_14: RIGHT Processed Signal Shape = (16, 875)\n",
            "right_4_16: RIGHT Processed Signal Shape = (16, 875)\n",
            "right_4_18: RIGHT Processed Signal Shape = (16, 875)\n",
            "right_4_20: RIGHT Processed Signal Shape = (16, 875)\n",
            "right_5_2: RIGHT Processed Signal Shape = (16, 875)\n",
            "right_5_4: RIGHT Processed Signal Shape = (16, 875)\n",
            "right_5_6: RIGHT Processed Signal Shape = (16, 875)\n",
            "right_5_8: RIGHT Processed Signal Shape = (16, 875)\n",
            "right_5_10: RIGHT Processed Signal Shape = (16, 875)\n",
            "right_5_12: RIGHT Processed Signal Shape = (16, 875)\n",
            "right_5_14: RIGHT Processed Signal Shape = (16, 875)\n",
            "right_5_16: RIGHT Processed Signal Shape = (16, 875)\n",
            "right_5_18: RIGHT Processed Signal Shape = (16, 875)\n",
            "right_5_20: RIGHT Processed Signal Shape = (16, 875)\n",
            "right_6_2: RIGHT Processed Signal Shape = (16, 875)\n",
            "right_6_4: RIGHT Processed Signal Shape = (16, 875)\n",
            "right_6_6: RIGHT Processed Signal Shape = (16, 875)\n",
            "right_6_8: RIGHT Processed Signal Shape = (16, 875)\n",
            "right_6_10: RIGHT Processed Signal Shape = (16, 875)\n",
            "right_6_12: RIGHT Processed Signal Shape = (16, 875)\n",
            "right_6_14: RIGHT Processed Signal Shape = (16, 875)\n",
            "right_6_16: RIGHT Processed Signal Shape = (16, 875)\n",
            "right_6_18: RIGHT Processed Signal Shape = (16, 875)\n",
            "right_6_20: RIGHT Processed Signal Shape = (16, 875)\n",
            "left_1_1: LEFT Processed Signal Shape = (16, 875)\n",
            "left_1_3: LEFT Processed Signal Shape = (16, 875)\n",
            "left_1_5: LEFT Processed Signal Shape = (16, 875)\n",
            "left_1_7: LEFT Processed Signal Shape = (16, 875)\n",
            "left_1_9: LEFT Processed Signal Shape = (16, 875)\n",
            "left_1_11: LEFT Processed Signal Shape = (16, 875)\n",
            "left_1_13: LEFT Processed Signal Shape = (16, 875)\n",
            "left_1_15: LEFT Processed Signal Shape = (16, 875)\n",
            "left_1_17: LEFT Processed Signal Shape = (16, 875)\n",
            "left_1_19: LEFT Processed Signal Shape = (16, 875)\n",
            "left_2_1: LEFT Processed Signal Shape = (16, 875)\n",
            "left_2_3: LEFT Processed Signal Shape = (16, 875)\n",
            "left_2_5: LEFT Processed Signal Shape = (16, 875)\n",
            "left_2_7: LEFT Processed Signal Shape = (16, 875)\n",
            "left_2_9: LEFT Processed Signal Shape = (16, 875)\n",
            "left_2_11: LEFT Processed Signal Shape = (16, 875)\n",
            "left_2_13: LEFT Processed Signal Shape = (16, 875)\n",
            "left_2_15: LEFT Processed Signal Shape = (16, 875)\n",
            "left_2_17: LEFT Processed Signal Shape = (16, 875)\n",
            "left_2_19: LEFT Processed Signal Shape = (16, 875)\n",
            "left_3_1: LEFT Processed Signal Shape = (16, 875)\n",
            "left_3_3: LEFT Processed Signal Shape = (16, 875)\n",
            "left_3_5: LEFT Processed Signal Shape = (16, 875)\n",
            "left_3_7: LEFT Processed Signal Shape = (16, 875)\n",
            "left_3_9: LEFT Processed Signal Shape = (16, 875)\n",
            "left_3_11: LEFT Processed Signal Shape = (16, 875)\n",
            "left_3_13: LEFT Processed Signal Shape = (16, 875)\n",
            "left_3_15: LEFT Processed Signal Shape = (16, 875)\n",
            "left_3_17: LEFT Processed Signal Shape = (16, 875)\n",
            "left_3_19: LEFT Processed Signal Shape = (16, 875)\n",
            "left_4_1: LEFT Processed Signal Shape = (16, 875)\n",
            "left_4_3: LEFT Processed Signal Shape = (16, 875)\n",
            "left_4_5: LEFT Processed Signal Shape = (16, 875)\n",
            "left_4_7: LEFT Processed Signal Shape = (16, 875)\n",
            "left_4_9: LEFT Processed Signal Shape = (16, 875)\n",
            "left_4_11: LEFT Processed Signal Shape = (16, 875)\n",
            "left_4_13: LEFT Processed Signal Shape = (16, 875)\n",
            "left_4_15: LEFT Processed Signal Shape = (16, 875)\n",
            "left_4_17: LEFT Processed Signal Shape = (16, 875)\n",
            "left_4_19: LEFT Processed Signal Shape = (16, 875)\n",
            "left_5_1: LEFT Processed Signal Shape = (16, 875)\n",
            "left_5_3: LEFT Processed Signal Shape = (16, 875)\n",
            "left_5_5: LEFT Processed Signal Shape = (16, 875)\n",
            "left_5_7: LEFT Processed Signal Shape = (16, 875)\n",
            "left_5_9: LEFT Processed Signal Shape = (16, 875)\n",
            "left_5_11: LEFT Processed Signal Shape = (16, 875)\n",
            "left_5_13: LEFT Processed Signal Shape = (16, 875)\n",
            "left_5_15: LEFT Processed Signal Shape = (16, 875)\n",
            "left_5_17: LEFT Processed Signal Shape = (16, 875)\n",
            "left_5_19: LEFT Processed Signal Shape = (16, 875)\n",
            "left_6_1: LEFT Processed Signal Shape = (16, 875)\n",
            "left_6_3: LEFT Processed Signal Shape = (16, 875)\n",
            "left_6_5: LEFT Processed Signal Shape = (16, 875)\n",
            "left_6_7: LEFT Processed Signal Shape = (16, 875)\n",
            "left_6_9: LEFT Processed Signal Shape = (16, 875)\n",
            "left_6_11: LEFT Processed Signal Shape = (16, 875)\n",
            "left_6_13: LEFT Processed Signal Shape = (16, 875)\n",
            "left_6_15: LEFT Processed Signal Shape = (16, 875)\n",
            "left_6_17: LEFT Processed Signal Shape = (16, 875)\n",
            "left_6_19: LEFT Processed Signal Shape = (16, 875)\n"
          ]
        }
      ]
    },
    {
      "cell_type": "code",
      "source": [
        "left_labels = np.array([0 for _ in range(len(left_preprocessed_signals))])\n",
        "right_labels = np.array([1 for _ in range(len(right_preprocessed_signals))])\n",
        "\n",
        "left, left_labels = sliding_window_augmentation(np.array(list(left_preprocessed_signals.values())), np.array(left_labels), window_size=80, stride=60)\n",
        "right, right_labels = sliding_window_augmentation(np.array(list(right_preprocessed_signals.values())), np.array(right_labels), window_size=80, stride=60)"
      ],
      "metadata": {
        "id": "2b5NTIexvfJ7"
      },
      "execution_count": 73,
      "outputs": []
    },
    {
      "cell_type": "code",
      "source": [
        "left.shape, right.shape, left_labels.shape, right_labels.shape"
      ],
      "metadata": {
        "id": "N-oDYATfpDUk",
        "colab": {
          "base_uri": "https://localhost:8080/"
        },
        "outputId": "a264476c-16a3-4a1a-ebc7-a5f2e9239ddb"
      },
      "execution_count": 74,
      "outputs": [
        {
          "output_type": "execute_result",
          "data": {
            "text/plain": [
              "((840, 16, 80), (840, 16, 80), (840,), (840,))"
            ]
          },
          "metadata": {},
          "execution_count": 74
        }
      ]
    },
    {
      "cell_type": "markdown",
      "source": [
        "# Data Augmentation Functions"
      ],
      "metadata": {
        "id": "eaol39KVVP36"
      }
    },
    {
      "cell_type": "code",
      "source": [
        "import numpy as np\n",
        "from PyEMD import EMD\n",
        "\n",
        "n_samples, n_channels, n_time = processed_data.shape\n",
        "n_imfs_to_keep = 5  # Adjust based on your signals\n",
        "\n",
        "# Initialize EMD and store decomposed IMFs\n",
        "emd = EMD()\n",
        "imfs_dataset = []\n",
        "\n",
        "for sample in range(n_samples):\n",
        "    imfs_sample = []\n",
        "    if sample % 10 == 0:\n",
        "        print(f\"Processing sample {sample+1}/{n_samples}\")\n",
        "    for channel in range(n_channels):\n",
        "        signal = processed_data[sample, channel, :]\n",
        "        imfs = emd(signal)  # Decompose into IMFs\n",
        "        n_imfs = imfs.shape[0]\n",
        "\n",
        "        # Pad with zeros if fewer IMFs than n_imfs_to_keep\n",
        "        if n_imfs < n_imfs_to_keep:\n",
        "            pad_width = n_imfs_to_keep - n_imfs\n",
        "            imfs = np.pad(imfs, ((0, pad_width), (0, 0)), mode='constant')\n",
        "        else:\n",
        "            imfs = imfs[:n_imfs_to_keep, :]\n",
        "\n",
        "        # Include residue (original signal - sum of IMFs)\n",
        "        residue = signal - np.sum(imfs, axis=0)\n",
        "        components = np.vstack([imfs, residue[np.newaxis, :]])\n",
        "        imfs_sample.append(components)\n",
        "\n",
        "    # Stack components across channels: (16*6, 875)\n",
        "    imfs_sample = np.vstack(imfs_sample)  # Shape: (16*(n_imfs+1), 875)\n",
        "    imfs_dataset.append(imfs_sample)\n",
        "\n",
        "print(len(imfs_dataset), len(imfs_dataset[0]))\n",
        "for sample in range(len(imfs_dataset)):\n",
        "    for channel in range(len(imfs_dataset[0])):\n",
        "        channel_data = imfs_dataset[sample][channel]\n",
        "        std = np.std(channel_data)\n",
        "        # Check for zero standard deviation before normalization\n",
        "        if std != 0:\n",
        "            imfs_dataset[sample][channel] = (channel_data - np.mean(channel_data)) / std\n",
        "        else:\n",
        "            # If std is zero, avoid division and potentially replace with zeros or another strategy\n",
        "            imfs_dataset[sample][channel] = channel_data - np.mean(channel_data)  # Or replace with zeros: imfs_dataset[sample][channel] = 0\n",
        "\n",
        "imfs_dataset = np.array(imfs_dataset)\n"
      ],
      "metadata": {
        "colab": {
          "base_uri": "https://localhost:8080/"
        },
        "id": "ijOhMvaSo3AA",
        "outputId": "fe6d08fe-9d3d-434e-97ed-4ed8ae344911"
      },
      "execution_count": null,
      "outputs": [
        {
          "output_type": "stream",
          "name": "stdout",
          "text": [
            "Processing sample 1/200\n",
            "Processing sample 11/200\n",
            "Processing sample 21/200\n",
            "Processing sample 31/200\n",
            "Processing sample 41/200\n",
            "Processing sample 51/200\n",
            "Processing sample 61/200\n",
            "Processing sample 71/200\n",
            "Processing sample 81/200\n",
            "Processing sample 91/200\n",
            "Processing sample 101/200\n",
            "Processing sample 111/200\n",
            "Processing sample 121/200\n",
            "Processing sample 131/200\n",
            "Processing sample 141/200\n",
            "Processing sample 151/200\n",
            "Processing sample 161/200\n",
            "Processing sample 171/200\n",
            "Processing sample 181/200\n",
            "Processing sample 191/200\n",
            "200 96\n"
          ]
        }
      ]
    },
    {
      "cell_type": "code",
      "source": [
        "# Assuming 'eeg_data' is your NumPy array\n",
        "nan_proportion = np.isnan(imfs_dataset).sum() / imfs_dataset.size\n",
        "print(f\"Proportion of NaN values: {nan_proportion}\")"
      ],
      "metadata": {
        "colab": {
          "base_uri": "https://localhost:8080/"
        },
        "id": "K-XVwWrvkxrT",
        "outputId": "7c643324-a1e9-4fc0-d6c3-49dbea83e914"
      },
      "execution_count": null,
      "outputs": [
        {
          "output_type": "stream",
          "name": "stdout",
          "text": [
            "Proportion of NaN values: 0.0\n"
          ]
        }
      ]
    },
    {
      "cell_type": "code",
      "source": [
        "# run only one of these:"
      ],
      "metadata": {
        "id": "vQNk2WSGjccJ"
      },
      "execution_count": null,
      "outputs": []
    },
    {
      "cell_type": "code",
      "source": [
        "augmented_data, augmented_labels = imfs_dataset, labels"
      ],
      "metadata": {
        "id": "q9Oz4F1cjbfl"
      },
      "execution_count": null,
      "outputs": []
    },
    {
      "cell_type": "code",
      "source": [
        "augmented_data, augmented_labels = sliding_window_augmentation(imfs_dataset, labels)"
      ],
      "metadata": {
        "id": "nAcX_j1zL92k"
      },
      "execution_count": null,
      "outputs": []
    },
    {
      "cell_type": "code",
      "source": [
        "augmented_data.shape, augmented_labels.shape"
      ],
      "metadata": {
        "colab": {
          "base_uri": "https://localhost:8080/"
        },
        "id": "BEE2e94BMC4G",
        "outputId": "9ce7bd81-e3ce-4e1d-eea3-465a04074c15"
      },
      "execution_count": null,
      "outputs": [
        {
          "output_type": "execute_result",
          "data": {
            "text/plain": [
              "((2200, 96, 125), (2200,))"
            ]
          },
          "metadata": {},
          "execution_count": 210
        }
      ]
    },
    {
      "cell_type": "code",
      "source": [
        "def visualize_imfs(sample_idx, channel_idx, imfs):\n",
        "    \"\"\"\n",
        "    Visualize IMFs for a specific channel of a specific sample\n",
        "    \"\"\"\n",
        "    n_imfs = 5\n",
        "    plt.figure(figsize=(12, 8))\n",
        "\n",
        "    # Plot original signal\n",
        "    plt.subplot(n_imfs + 1, 1, 1)\n",
        "    plt.plot(processed_data[sample_idx, channel_idx])\n",
        "    plt.title(f'Original Signal - Channel {channel_idx}')\n",
        "\n",
        "    # Plot IMFs\n",
        "    for i in range(n_imfs):\n",
        "        plt.subplot(n_imfs + 1, 1, i + 2)\n",
        "        plt.plot(imfs[i])\n",
        "        plt.title(f'IMF {i+1}')\n",
        "\n",
        "    plt.tight_layout()\n",
        "    plt.show()"
      ],
      "metadata": {
        "id": "2oojEAx7sBAX"
      },
      "execution_count": null,
      "outputs": []
    },
    {
      "cell_type": "code",
      "source": [
        "imfs_dataset.shape"
      ],
      "metadata": {
        "colab": {
          "base_uri": "https://localhost:8080/"
        },
        "id": "mxkGLFMirlxG",
        "outputId": "eac73724-a8f7-4910-e818-97dfe5086798"
      },
      "execution_count": null,
      "outputs": [
        {
          "output_type": "execute_result",
          "data": {
            "text/plain": [
              "(120, 96, 875)"
            ]
          },
          "metadata": {},
          "execution_count": 130
        }
      ]
    },
    {
      "cell_type": "code",
      "source": [
        "visualize_imfs(0, 0, augmented_data[0])"
      ],
      "metadata": {
        "colab": {
          "base_uri": "https://localhost:8080/",
          "height": 539
        },
        "id": "mj3PWhihpJdI",
        "outputId": "8473f8e0-72a9-4de2-f324-ea6c446bb0e1"
      },
      "execution_count": null,
      "outputs": [
        {
          "output_type": "display_data",
          "data": {
            "text/plain": [
              "<Figure size 1200x800 with 6 Axes>"
            ],
            "image/png": "[encoded data removed]"
          },
          "metadata": {}
        }
      ]
    },
    {
      "cell_type": "markdown",
      "source": [
        "# model things\n"
      ],
      "metadata": {
        "id": "bdJQRTVLv0IE"
      }
    },
    {
      "cell_type": "code",
      "source": [
        "# run this if no EMD!\n",
        "augmented_data = np.concatenate((left, right))\n",
        "augmented_labels = np.concatenate((left_labels, right_labels))\n"
      ],
      "metadata": {
        "id": "NkbYjcWNwUGs"
      },
      "execution_count": 75,
      "outputs": []
    },
    {
      "cell_type": "code",
      "source": [
        "augmented_labels"
      ],
      "metadata": {
        "colab": {
          "base_uri": "https://localhost:8080/"
        },
        "id": "_DCT9qZEwtbM",
        "outputId": "5ed22b8d-6769-4926-a032-944d91eae97b"
      },
      "execution_count": 76,
      "outputs": [
        {
          "output_type": "execute_result",
          "data": {
            "text/plain": [
              "array([0, 0, 0, ..., 1, 1, 1])"
            ]
          },
          "metadata": {},
          "execution_count": 76
        }
      ]
    },
    {
      "cell_type": "code",
      "source": [
        "import torch\n",
        "import torch.nn as nn\n",
        "\n",
        "class EMD_PCNN(nn.Module):\n",
        "    def __init__(self, input_channels=16, num_classes=2, input_length=80):\n",
        "        super().__init__()\n",
        "\n",
        "        # Branch 1 (input_length = 125)\n",
        "        # Branch 1 (input_length = 125)\n",
        "        self.branch1 = nn.Sequential(\n",
        "            nn.Conv1d(input_channels, 16, kernel_size=20, padding='same'),\n",
        "            nn.BatchNorm1d(16),\n",
        "            nn.ReLU(),\n",
        "            nn.Dropout(0.5),\n",
        "            nn.MaxPool1d(2),  # Output length: 125 // 2 = 62\n",
        "            # nn.Conv1d(16, 32, kernel_size=10, padding='same'),\n",
        "            # nn.BatchNorm1d(32),\n",
        "            # nn.ReLU(),\n",
        "            # nn.Dropout(0.5),\n",
        "            # nn.MaxPool1d(2)  # Output length: 62 // 2 = 31\n",
        "        )\n",
        "\n",
        "        # Branch 2 (input_length = 125)\n",
        "        self.branch2 = nn.Sequential(\n",
        "            nn.Conv1d(input_channels, 16, kernel_size=10, padding='same'),\n",
        "            nn.BatchNorm1d(16),\n",
        "            nn.ReLU(),\n",
        "            nn.Dropout(0.5),\n",
        "            nn.MaxPool1d(2),  # Output length: 125 // 2 = 62\n",
        "            # nn.Conv1d(16, 32, kernel_size=5, padding='same'),\n",
        "            # nn.BatchNorm1d(32),\n",
        "            # nn.ReLU(),\n",
        "            # nn.Dropout(0.5),\n",
        "            # nn.MaxPool1d(2)  # Output length: 62 // 2 = 31\n",
        "        )\n",
        "\n",
        "        # Calculate FC input dimension dynamically\n",
        "        with torch.no_grad():\n",
        "            example_input = torch.randn(1, input_channels, input_length)\n",
        "            out1 = self.branch1(example_input)\n",
        "            out2 = self.branch2(example_input)\n",
        "            self.fc_input_dim = out1.numel() + out2.numel()\n",
        "\n",
        "        self.fc = nn.Sequential(\n",
        "            nn.Linear(self.fc_input_dim, 64),\n",
        "            nn.ReLU(),\n",
        "            nn.Dropout(0.4),\n",
        "            nn.Linear(64, num_classes)\n",
        "        )\n",
        "\n",
        "    def forward(self, x):\n",
        "        out1 = self.branch1(x)  # Shape: (batch, 32, 31)\n",
        "        out2 = self.branch2(x)  # Shape: (batch, 32, 31)\n",
        "        combined = torch.cat([out1.flatten(1), out2.flatten(1)], dim=1)  # Shape: (batch, 32*31 + 32*31) = (batch, 1984)\n",
        "        return self.fc(combined)"
      ],
      "metadata": {
        "id": "qQZE4KRzso-q"
      },
      "execution_count": 38,
      "outputs": []
    },
    {
      "cell_type": "code",
      "source": [
        "class PCNN_3Branch(nn.Module):\n",
        "    def __init__(self, input_channels=16, num_classes=2, input_length=80):\n",
        "        super().__init__()\n",
        "\n",
        "\n",
        "        self.branch1 = nn.Sequential(\n",
        "            nn.Conv1d(input_channels, 16, kernel_size=20, padding='same'),\n",
        "            nn.BatchNorm1d(16),\n",
        "            nn.ReLU(),\n",
        "            nn.Dropout(0.5),\n",
        "            nn.MaxPool1d(2),\n",
        "        )\n",
        "\n",
        "\n",
        "        self.branch2 = nn.Sequential(\n",
        "            nn.Conv1d(input_channels, 16, kernel_size=10, padding='same'),\n",
        "            nn.BatchNorm1d(16),\n",
        "            nn.ReLU(),\n",
        "            nn.Dropout(0.5),\n",
        "            nn.MaxPool1d(2),\n",
        "        )\n",
        "\n",
        "        self.branch3 = nn.Sequential(\n",
        "            nn.Conv1d(input_channels, 16, kernel_size=5, padding='same'),\n",
        "            nn.BatchNorm1d(16),\n",
        "            nn.ReLU(),\n",
        "            nn.Dropout(0.5),\n",
        "            nn.MaxPool1d(2),\n",
        "        )\n",
        "\n",
        "        self.branch4 = nn.Sequential(\n",
        "            nn.Conv1d(input_channels, 16, kernel_size=5, padding='same'),\n",
        "            nn.BatchNorm1d(16),\n",
        "            nn.ReLU(),\n",
        "            nn.Dropout(0.5),\n",
        "            nn.MaxPool1d(2),\n",
        "        )\n",
        "\n",
        "\n",
        "        with torch.no_grad():\n",
        "            example_input = torch.randn(1, input_channels, input_length)\n",
        "            out1 = self.branch1(example_input)\n",
        "            out2 = self.branch2(example_input)\n",
        "            out3 = self.branch3(example_input)\n",
        "            out4 = self.branch4(example_input)\n",
        "            self.fc_input_dim = out1.numel() + out2.numel() + out3.numel() + out4.numel()\n",
        "\n",
        "        self.fc = nn.Sequential(\n",
        "            nn.Linear(self.fc_input_dim, 128),\n",
        "            nn.ReLU(),\n",
        "            nn.Dropout(0.4),\n",
        "            nn.Linear(128, num_classes)\n",
        "        )\n",
        "\n",
        "    def forward(self, x):\n",
        "        out1 = self.branch1(x)\n",
        "        out2 = self.branch2(x)\n",
        "        out3 = self.branch3(x)\n",
        "        out4 = self.branch4(x)\n",
        "        combined = torch.cat([out1.flatten(1), out2.flatten(1), out3.flatten(1), out4.flatten(1)], dim=1)\n",
        "        return self.fc(combined)"
      ],
      "metadata": {
        "id": "kaKZfQlxxkXY"
      },
      "execution_count": 77,
      "outputs": []
    },
    {
      "cell_type": "code",
      "source": [
        "X.shape, y.shape"
      ],
      "metadata": {
        "colab": {
          "base_uri": "https://localhost:8080/"
        },
        "id": "KiEhsZGZ9S4A",
        "outputId": "bb303e3b-9993-42e6-d1a0-11653cdaad6d"
      },
      "execution_count": 79,
      "outputs": [
        {
          "output_type": "execute_result",
          "data": {
            "text/plain": [
              "(torch.Size([1680, 16, 80]), torch.Size([1680]))"
            ]
          },
          "metadata": {},
          "execution_count": 79
        }
      ]
    },
    {
      "cell_type": "code",
      "source": [
        "from torch.utils.data import DataLoader, TensorDataset, random_split\n",
        "class EEGAugmenter:\n",
        "    def __call__(self, sample):\n",
        "        if np.random.rand() > 0.5:\n",
        "            # Add Gaussian noise\n",
        "            noise = torch.randn_like(sample) * 0.01\n",
        "            sample += noise\n",
        "        if np.random.rand() > 0.5:\n",
        "            # Random shift (up to 5 timesteps)\n",
        "            shift = np.random.randint(-5, 5)\n",
        "            sample = torch.roll(sample, shifts=shift, dims=-1)\n",
        "        return sample\n",
        "\n",
        "\n",
        "# Convert to PyTorch tensors\n",
        "X = torch.tensor(augmented_data, dtype=torch.float32)\n",
        "y = torch.tensor(augmented_labels, dtype=torch.long)  # Ensure labels are integers\n",
        "\n",
        "# Split into train/validation (80/20)\n",
        "dataset = TensorDataset(X, y)\n",
        "train_size = int(0.7 * len(dataset))\n",
        "val_size = len(dataset) - train_size\n",
        "train_dataset, val_dataset = random_split(dataset, [train_size, val_size])\n",
        "\n",
        "# Create DataLoaders\n",
        "batch_size = 24  # Adjust based on GPU memory\n",
        "train_loader = DataLoader(train_dataset, batch_size=batch_size, shuffle=True)\n",
        "val_loader = DataLoader(val_dataset, batch_size=batch_size, shuffle=False)\n",
        "\n",
        "# train_loader = DataLoader(train_dataset, batch_size=batch_size, shuffle=True, collate_fn=EEGAugmenter())\n",
        "# val_loader = DataLoader(val_dataset, batch_size=batch_size, shuffle=False, collate_fn=EEGAugmenter())"
      ],
      "metadata": {
        "id": "PSeqtRO_t8hk"
      },
      "execution_count": 81,
      "outputs": []
    },
    {
      "cell_type": "code",
      "source": [
        "print(len(train_loader), len(val_loader))"
      ],
      "metadata": {
        "colab": {
          "base_uri": "https://localhost:8080/"
        },
        "id": "_CJn3U8wh7jn",
        "outputId": "96d49d42-c12d-4160-9293-7b1344f7539f"
      },
      "execution_count": 82,
      "outputs": [
        {
          "output_type": "stream",
          "name": "stdout",
          "text": [
            "49 21\n"
          ]
        }
      ]
    },
    {
      "cell_type": "code",
      "source": [
        "device = torch.device(\"cuda\" if torch.cuda.is_available() else \"cpu\")\n",
        "model = PCNN_3Branch(input_channels=16, num_classes=2).to(device)  # Adjust num_classes\n",
        "criterion = nn.CrossEntropyLoss()\n",
        "optimizer = torch.optim.Adam(model.parameters(), lr=1e-4)"
      ],
      "metadata": {
        "id": "F2V8EYSIuCFD"
      },
      "execution_count": 83,
      "outputs": []
    },
    {
      "cell_type": "code",
      "source": [
        "# Check for NaNs/Infs in data and labels\n",
        "assert not torch.isnan(X).any(), \"Input data contains NaNs!\"\n",
        "assert not torch.isinf(X).any(), \"Input data contains Infs!\"\n",
        "assert torch.all(y >= 0) and torch.all(y < 2), \"Invalid labels!\""
      ],
      "metadata": {
        "id": "nS5ZPBVOIIsK"
      },
      "execution_count": 84,
      "outputs": []
    },
    {
      "cell_type": "code",
      "source": [
        "num_epochs = 30  # Adjust based on early stopping\n",
        "train_losses, val_losses = [], []\n",
        "train_accs, val_accs = [], []\n",
        "\n",
        "for epoch in range(num_epochs):\n",
        "    # Training phase\n",
        "    model.train()\n",
        "    epoch_train_loss, correct_train, total_train = 0, 0, 0\n",
        "\n",
        "    for batch_X, batch_y in train_loader:\n",
        "        batch_X, batch_y = batch_X.to(device), batch_y.to(device)\n",
        "\n",
        "        outputs = model(batch_X)\n",
        "\n",
        "        # Add these checks\n",
        "        if torch.isnan(outputs).any():\n",
        "            print(\"NaN in model outputs!\")\n",
        "            break\n",
        "        loss = criterion(outputs, batch_y)\n",
        "\n",
        "        optimizer.zero_grad()\n",
        "        loss.backward()\n",
        "        optimizer.step()\n",
        "\n",
        "        # Track metrics\n",
        "        epoch_train_loss += loss.item()\n",
        "        _, predicted = torch.max(outputs.data, 1)\n",
        "        total_train += batch_y.size(0)\n",
        "        correct_train += (predicted == batch_y).sum().item()\n",
        "\n",
        "    # Validation phase\n",
        "    model.eval()\n",
        "    epoch_val_loss, correct_val, total_val = 0, 0, 0\n",
        "\n",
        "    with torch.no_grad():\n",
        "        for batch_X, batch_y in val_loader:\n",
        "            batch_X, batch_y = batch_X.to(device), batch_y.to(device)\n",
        "            outputs = model(batch_X)\n",
        "            loss = criterion(outputs, batch_y)\n",
        "\n",
        "            epoch_val_loss += loss.item()\n",
        "            _, predicted = torch.max(outputs.data, 1)\n",
        "            total_val += batch_y.size(0)\n",
        "            correct_val += (predicted == batch_y).sum().item()\n",
        "\n",
        "    # Compute epoch metrics\n",
        "    train_loss = epoch_train_loss / len(train_loader)\n",
        "    val_loss = epoch_val_loss / len(val_loader)\n",
        "    train_acc = correct_train / total_train\n",
        "    val_acc = correct_val / total_val\n",
        "\n",
        "    train_losses.append(train_loss)\n",
        "    val_losses.append(val_loss)\n",
        "    train_accs.append(train_acc)\n",
        "    val_accs.append(val_acc)\n",
        "\n",
        "    if epoch % 2 == 0:\n",
        "        # Print progress\n",
        "        print(f\"Epoch {epoch+1}/{num_epochs}\")\n",
        "        print(f\"Train Loss: {train_loss:.4f} | Val Loss: {val_loss:.4f}\")\n",
        "        print(f\"Train Acc: {train_acc*100:.2f}% | Val Acc: {val_acc*100:.2f}%\")\n",
        "        print(\"----------------------------------\")\n"
      ],
      "metadata": {
        "colab": {
          "base_uri": "https://localhost:8080/"
        },
        "id": "68mtW1CIuD73",
        "outputId": "a11e6889-92b1-4c43-ab6a-b55fa4396c53"
      },
      "execution_count": 85,
      "outputs": [
        {
          "output_type": "stream",
          "name": "stdout",
          "text": [
            "Epoch 1/30\n",
            "Train Loss: 0.7320 | Val Loss: 0.6991\n",
            "Train Acc: 50.26% | Val Acc: 47.62%\n",
            "----------------------------------\n",
            "Epoch 3/30\n",
            "Train Loss: 0.6721 | Val Loss: 0.7060\n",
            "Train Acc: 59.95% | Val Acc: 46.43%\n",
            "----------------------------------\n",
            "Epoch 5/30\n",
            "Train Loss: 0.6428 | Val Loss: 0.7157\n",
            "Train Acc: 63.95% | Val Acc: 48.02%\n",
            "----------------------------------\n",
            "Epoch 7/30\n",
            "Train Loss: 0.5978 | Val Loss: 0.7303\n",
            "Train Acc: 69.13% | Val Acc: 47.62%\n",
            "----------------------------------\n",
            "Epoch 9/30\n",
            "Train Loss: 0.5693 | Val Loss: 0.7343\n",
            "Train Acc: 71.26% | Val Acc: 49.21%\n",
            "----------------------------------\n",
            "Epoch 11/30\n",
            "Train Loss: 0.5243 | Val Loss: 0.7402\n",
            "Train Acc: 76.02% | Val Acc: 48.81%\n",
            "----------------------------------\n",
            "Epoch 13/30\n",
            "Train Loss: 0.4778 | Val Loss: 0.7787\n",
            "Train Acc: 77.89% | Val Acc: 48.41%\n",
            "----------------------------------\n",
            "Epoch 15/30\n",
            "Train Loss: 0.4395 | Val Loss: 0.7584\n",
            "Train Acc: 81.04% | Val Acc: 49.01%\n",
            "----------------------------------\n",
            "Epoch 17/30\n",
            "Train Loss: 0.4072 | Val Loss: 0.7611\n",
            "Train Acc: 83.42% | Val Acc: 50.99%\n",
            "----------------------------------\n",
            "Epoch 19/30\n",
            "Train Loss: 0.3644 | Val Loss: 0.8081\n",
            "Train Acc: 86.31% | Val Acc: 48.02%\n",
            "----------------------------------\n",
            "Epoch 21/30\n",
            "Train Loss: 0.3241 | Val Loss: 0.7926\n",
            "Train Acc: 87.59% | Val Acc: 50.60%\n",
            "----------------------------------\n",
            "Epoch 23/30\n",
            "Train Loss: 0.3040 | Val Loss: 0.8267\n",
            "Train Acc: 89.46% | Val Acc: 51.19%\n",
            "----------------------------------\n",
            "Epoch 25/30\n",
            "Train Loss: 0.2682 | Val Loss: 0.8293\n",
            "Train Acc: 92.43% | Val Acc: 49.21%\n",
            "----------------------------------\n",
            "Epoch 27/30\n",
            "Train Loss: 0.2435 | Val Loss: 0.8257\n",
            "Train Acc: 92.69% | Val Acc: 50.79%\n",
            "----------------------------------\n",
            "Epoch 29/30\n",
            "Train Loss: 0.2175 | Val Loss: 0.8551\n",
            "Train Acc: 93.62% | Val Acc: 49.60%\n",
            "----------------------------------\n"
          ]
        }
      ]
    },
    {
      "cell_type": "code",
      "source": [
        "plt.plot(train_losses, label='Train Loss')\n",
        "plt.plot(val_losses, label='Validation Loss')\n",
        "plt.xlabel('Epochs')\n",
        "plt.ylabel('Loss')\n",
        "plt.legend()\n",
        "plt.show()"
      ],
      "metadata": {
        "colab": {
          "base_uri": "https://localhost:8080/",
          "height": 449
        },
        "id": "sgFKIZNNxQHr",
        "outputId": "2922138f-eb96-4b9a-80f2-761abd643755"
      },
      "execution_count": 62,
      "outputs": [
        {
          "output_type": "display_data",
          "data": {
            "text/plain": [
              "<Figure size 640x480 with 1 Axes>"
            ],
            "image/png": "[encoded data removed]"
          },
          "metadata": {}
        }
      ]
    }
  ],
  "metadata": {
    "kernelspec": {
      "display_name": "Python 3",
      "name": "python3"
    },
    "language_info": {
      "codemirror_mode": {
        "name": "ipython",
        "version": 3
      },
      "file_extension": ".py",
      "mimetype": "text/x-python",
      "name": "python",
      "nbconvert_exporter": "python",
      "pygments_lexer": "ipython3",
      "version": "3.9.19"
    },
    "colab": {
      "provenance": [],
      "gpuType": "T4"
    },
    "accelerator": "GPU"
  },
  "nbformat": 4,
  "nbformat_minor": 0
}